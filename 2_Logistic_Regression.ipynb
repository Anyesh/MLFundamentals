{
  "nbformat": 4,
  "nbformat_minor": 0,
  "metadata": {
    "colab": {
      "name": "Logistic Regression.ipynb",
      "provenance": [],
      "collapsed_sections": []
    },
    "kernelspec": {
      "name": "python3",
      "display_name": "Python 3"
    }
  },
  "cells": [
    {
      "cell_type": "code",
      "metadata": {
        "id": "GAiy6oVNELSZ",
        "colab_type": "code",
        "outputId": "1b09e156-c2b8-422c-890b-a1cbf5c80c29",
        "colab": {
          "base_uri": "https://localhost:8080/",
          "height": 34
        }
      },
      "source": [
        "%pylab inline"
      ],
      "execution_count": 1,
      "outputs": [
        {
          "output_type": "stream",
          "text": [
            "Populating the interactive namespace from numpy and matplotlib\n"
          ],
          "name": "stdout"
        }
      ]
    },
    {
      "cell_type": "markdown",
      "metadata": {
        "id": "-rn8NZakzdMV",
        "colab_type": "text"
      },
      "source": [
        "## The Dataset\n",
        "\n",
        "To keep the blog post concise and focussed I added explanations in the cells explaining the data loading. This is not part of the blog post."
      ]
    },
    {
      "cell_type": "markdown",
      "metadata": {
        "id": "NPPGqFrLze4U",
        "colab_type": "text"
      },
      "source": [
        "### Downloading the data\n",
        "\n",
        "The data is available in a `.data` file, but it's actually a `csv`.\n",
        "\n",
        "In a Jupyter Notebook you can execute shell commands by putting an `!` at the beginning of the cell. If you're not using a notebook (you should), then you can remove the `!` from the following command.\n",
        "\n",
        "Downloading files can be done with a little utility program called `wget`. By passing `-O` you can specify the filename of the downloaded file. I used the `csv` extension because it's a csv file, but any extension will do.\n",
        "\n",
        "To download the data execute the following cell:"
      ]
    },
    {
      "cell_type": "code",
      "metadata": {
        "id": "bSgCsD_oENna",
        "colab_type": "code",
        "outputId": "c5ef44c2-1562-40ef-97a4-73c4b2f156f7",
        "colab": {
          "base_uri": "https://localhost:8080/",
          "height": 204
        }
      },
      "source": [
        "!wget -O dataset.csv https://archive.ics.uci.edu/ml/machine-learning-databases/breast-cancer-wisconsin/breast-cancer-wisconsin.data"
      ],
      "execution_count": 2,
      "outputs": [
        {
          "output_type": "stream",
          "text": [
            "--2020-02-08 22:18:32--  https://archive.ics.uci.edu/ml/machine-learning-databases/breast-cancer-wisconsin/breast-cancer-wisconsin.data\n",
            "Resolving archive.ics.uci.edu (archive.ics.uci.edu)... 128.195.10.252\n",
            "Connecting to archive.ics.uci.edu (archive.ics.uci.edu)|128.195.10.252|:443... connected.\n",
            "HTTP request sent, awaiting response... 200 OK\n",
            "Length: 19889 (19K) [application/x-httpd-php]\n",
            "Saving to: ‘dataset.csv’\n",
            "\n",
            "\rdataset.csv           0%[                    ]       0  --.-KB/s               \rdataset.csv         100%[===================>]  19.42K  --.-KB/s    in 0.03s   \n",
            "\n",
            "2020-02-08 22:18:32 (664 KB/s) - ‘dataset.csv’ saved [19889/19889]\n",
            "\n"
          ],
          "name": "stdout"
        }
      ]
    },
    {
      "cell_type": "markdown",
      "metadata": {
        "id": "Q6peH6a5ptvy",
        "colab_type": "text"
      },
      "source": [
        "Let's look at what that looks like:"
      ]
    },
    {
      "cell_type": "code",
      "metadata": {
        "id": "mu0GXYGFpj0T",
        "colab_type": "code",
        "outputId": "f9657f5b-41ea-441c-f41e-03bfe17a8c6d",
        "colab": {
          "base_uri": "https://localhost:8080/",
          "height": 68
        }
      },
      "source": [
        "!head -3 dataset.csv"
      ],
      "execution_count": 3,
      "outputs": [
        {
          "output_type": "stream",
          "text": [
            "1000025,5,1,1,1,2,1,3,1,1,2\n",
            "1002945,5,4,4,5,7,10,3,2,1,2\n",
            "1015425,3,1,1,1,2,2,3,1,1,2\n"
          ],
          "name": "stdout"
        }
      ]
    },
    {
      "cell_type": "markdown",
      "metadata": {
        "id": "gxbKIdJfpvxm",
        "colab_type": "text"
      },
      "source": [
        "We'll see the corresponding column names in a second."
      ]
    },
    {
      "cell_type": "markdown",
      "metadata": {
        "id": "HUJHjN5CzQlg",
        "colab_type": "text"
      },
      "source": [
        "### Loading the data"
      ]
    },
    {
      "cell_type": "markdown",
      "metadata": {
        "id": "x_5qL0Lmp7u4",
        "colab_type": "text"
      },
      "source": [
        "Now to load the data we use a library called `pandas`. This library can do many things related to data loading, but I'll focus on the CSV reader in this post."
      ]
    },
    {
      "cell_type": "code",
      "metadata": {
        "id": "CY-wIi2EEQnO",
        "colab_type": "code",
        "colab": {}
      },
      "source": [
        "import pandas as pd"
      ],
      "execution_count": 0,
      "outputs": []
    },
    {
      "cell_type": "markdown",
      "metadata": {
        "id": "pabqkgOip-3n",
        "colab_type": "text"
      },
      "source": [
        "To read a csv file use `pd.read_csv()`. A few interesting parameters:\n",
        "\n",
        "* `filepath_or_buffer`: path to the csv file.\n",
        "* `sep=','`: the separator, defaulted to commas. If your CSV file had tabs in them, for example, pass `\\t`.\n",
        "* `columns`: by passing `columns=None` pandas will also read the first row in the file instead of skipping it assuming it contains headers.\n",
        "* `names`: custom column names for the dataset.\n",
        "\n",
        "Since our dataset is separated by commas we won't pass anything for `sep`. We do pass the column names in `names` though so it's easier to select input and output columns later on. Because we pass `names`, pandas knows our CSV does not contain a header row and therefore it also reads the first line."
      ]
    },
    {
      "cell_type": "code",
      "metadata": {
        "id": "JqQG1st2p7Ti",
        "colab_type": "code",
        "colab": {}
      },
      "source": [
        "df = pd.read_csv('dataset.csv', names=[\n",
        "  \"id number\",\n",
        "  \"Clump Thickness\",\n",
        "  \"Uniformity of Cell Size\",\n",
        "  \"Uniformity of Cell Shape\",\n",
        "  \"Marginal Adhesion\",\n",
        "  \"Single Epithelial Cell Size\",\n",
        "  \"Bare Nuclei\",\n",
        "  \"Bland Chromatin\",\n",
        "  \"Normal Nucleoli\",\n",
        "  \"Mitoses\",\n",
        "  \"Class\"\n",
        "])"
      ],
      "execution_count": 0,
      "outputs": []
    },
    {
      "cell_type": "markdown",
      "metadata": {
        "id": "v6i_UEeZqB-r",
        "colab_type": "text"
      },
      "source": [
        "Note the variable name `df`. It stands for `DataFrame`: a Pandas object for data.\n",
        "\n",
        "Now let's inspect the DataFrame. `df.head()` prints out the first 5 elements:"
      ]
    },
    {
      "cell_type": "code",
      "metadata": {
        "id": "-rmeM3iCrA15",
        "colab_type": "code",
        "outputId": "d87d8166-3a1a-46d1-f1d0-0a2fb019498a",
        "colab": {
          "base_uri": "https://localhost:8080/",
          "height": 221
        }
      },
      "source": [
        "df.head()"
      ],
      "execution_count": 6,
      "outputs": [
        {
          "output_type": "execute_result",
          "data": {
            "text/html": [
              "<div>\n",
              "<style scoped>\n",
              "    .dataframe tbody tr th:only-of-type {\n",
              "        vertical-align: middle;\n",
              "    }\n",
              "\n",
              "    .dataframe tbody tr th {\n",
              "        vertical-align: top;\n",
              "    }\n",
              "\n",
              "    .dataframe thead th {\n",
              "        text-align: right;\n",
              "    }\n",
              "</style>\n",
              "<table border=\"1\" class=\"dataframe\">\n",
              "  <thead>\n",
              "    <tr style=\"text-align: right;\">\n",
              "      <th></th>\n",
              "      <th>id number</th>\n",
              "      <th>Clump Thickness</th>\n",
              "      <th>Uniformity of Cell Size</th>\n",
              "      <th>Uniformity of Cell Shape</th>\n",
              "      <th>Marginal Adhesion</th>\n",
              "      <th>Single Epithelial Cell Size</th>\n",
              "      <th>Bare Nuclei</th>\n",
              "      <th>Bland Chromatin</th>\n",
              "      <th>Normal Nucleoli</th>\n",
              "      <th>Mitoses</th>\n",
              "      <th>Class</th>\n",
              "    </tr>\n",
              "  </thead>\n",
              "  <tbody>\n",
              "    <tr>\n",
              "      <th>0</th>\n",
              "      <td>1000025</td>\n",
              "      <td>5</td>\n",
              "      <td>1</td>\n",
              "      <td>1</td>\n",
              "      <td>1</td>\n",
              "      <td>2</td>\n",
              "      <td>1</td>\n",
              "      <td>3</td>\n",
              "      <td>1</td>\n",
              "      <td>1</td>\n",
              "      <td>2</td>\n",
              "    </tr>\n",
              "    <tr>\n",
              "      <th>1</th>\n",
              "      <td>1002945</td>\n",
              "      <td>5</td>\n",
              "      <td>4</td>\n",
              "      <td>4</td>\n",
              "      <td>5</td>\n",
              "      <td>7</td>\n",
              "      <td>10</td>\n",
              "      <td>3</td>\n",
              "      <td>2</td>\n",
              "      <td>1</td>\n",
              "      <td>2</td>\n",
              "    </tr>\n",
              "    <tr>\n",
              "      <th>2</th>\n",
              "      <td>1015425</td>\n",
              "      <td>3</td>\n",
              "      <td>1</td>\n",
              "      <td>1</td>\n",
              "      <td>1</td>\n",
              "      <td>2</td>\n",
              "      <td>2</td>\n",
              "      <td>3</td>\n",
              "      <td>1</td>\n",
              "      <td>1</td>\n",
              "      <td>2</td>\n",
              "    </tr>\n",
              "    <tr>\n",
              "      <th>3</th>\n",
              "      <td>1016277</td>\n",
              "      <td>6</td>\n",
              "      <td>8</td>\n",
              "      <td>8</td>\n",
              "      <td>1</td>\n",
              "      <td>3</td>\n",
              "      <td>4</td>\n",
              "      <td>3</td>\n",
              "      <td>7</td>\n",
              "      <td>1</td>\n",
              "      <td>2</td>\n",
              "    </tr>\n",
              "    <tr>\n",
              "      <th>4</th>\n",
              "      <td>1017023</td>\n",
              "      <td>4</td>\n",
              "      <td>1</td>\n",
              "      <td>1</td>\n",
              "      <td>3</td>\n",
              "      <td>2</td>\n",
              "      <td>1</td>\n",
              "      <td>3</td>\n",
              "      <td>1</td>\n",
              "      <td>1</td>\n",
              "      <td>2</td>\n",
              "    </tr>\n",
              "  </tbody>\n",
              "</table>\n",
              "</div>"
            ],
            "text/plain": [
              "   id number  Clump Thickness  ...  Mitoses  Class\n",
              "0    1000025                5  ...        1      2\n",
              "1    1002945                5  ...        1      2\n",
              "2    1015425                3  ...        1      2\n",
              "3    1016277                6  ...        1      2\n",
              "4    1017023                4  ...        1      2\n",
              "\n",
              "[5 rows x 11 columns]"
            ]
          },
          "metadata": {
            "tags": []
          },
          "execution_count": 6
        }
      ]
    },
    {
      "cell_type": "markdown",
      "metadata": {
        "id": "RgEAtyuoqGuc",
        "colab_type": "text"
      },
      "source": [
        "### Data cleaning"
      ]
    },
    {
      "cell_type": "markdown",
      "metadata": {
        "id": "GsbMEJusqH2K",
        "colab_type": "text"
      },
      "source": [
        "If we take a closer look at the DataFrame we notice some columns have `?`, which of course means a value is unknown. Question marks are not understood by Pandas, so we replace them with `nan`, which Pandas does understand."
      ]
    },
    {
      "cell_type": "code",
      "metadata": {
        "id": "Tj73eOpA0NjK",
        "colab_type": "code",
        "colab": {}
      },
      "source": [
        "df = df.replace('?',np.NaN)"
      ],
      "execution_count": 0,
      "outputs": []
    },
    {
      "cell_type": "markdown",
      "metadata": {
        "id": "t0jZuzlWqMgr",
        "colab_type": "text"
      },
      "source": [
        "If we now count the missing values for each column, we see that `Bare Nuclei` misses 16 values."
      ]
    },
    {
      "cell_type": "code",
      "metadata": {
        "id": "o0xBRuq4qPNJ",
        "colab_type": "code",
        "outputId": "977a5fc2-818d-4032-926b-ce4d285392d2",
        "colab": {
          "base_uri": "https://localhost:8080/",
          "height": 221
        }
      },
      "source": [
        "df.isna().sum()"
      ],
      "execution_count": 8,
      "outputs": [
        {
          "output_type": "execute_result",
          "data": {
            "text/plain": [
              "id number                       0\n",
              "Clump Thickness                 0\n",
              "Uniformity of Cell Size         0\n",
              "Uniformity of Cell Shape        0\n",
              "Marginal Adhesion               0\n",
              "Single Epithelial Cell Size     0\n",
              "Bare Nuclei                    16\n",
              "Bland Chromatin                 0\n",
              "Normal Nucleoli                 0\n",
              "Mitoses                         0\n",
              "Class                           0\n",
              "dtype: int64"
            ]
          },
          "metadata": {
            "tags": []
          },
          "execution_count": 8
        }
      ]
    },
    {
      "cell_type": "markdown",
      "metadata": {
        "id": "eXpi16FKqR-C",
        "colab_type": "text"
      },
      "source": [
        "We will fill the missing values in a second once we have the data in numpy arrays."
      ]
    },
    {
      "cell_type": "markdown",
      "metadata": {
        "id": "GpboAIq1qT4l",
        "colab_type": "text"
      },
      "source": [
        "### To NumPy &amp; feature selection"
      ]
    },
    {
      "cell_type": "markdown",
      "metadata": {
        "id": "p0AIIz6LqWmb",
        "colab_type": "text"
      },
      "source": [
        "DataFrames by themselves are a great tool for organizing and manipulating data, but in order to use it for machine learning we usually need to convert the data to some other object. Numpy arrays in this case.\n",
        "\n",
        "Convering a pandas object to numpy is done by calling `to_numpy()`.\n",
        "\n",
        "Note that we select all columns, except for id number and class, as features. We use the \"Class\" column as labels. Note that we did not select the id number column for either because that information should be completely unrelated to the diagnosis. In the rare event features like these boost accuracy it's because of a coincidence and it would not generalize well to the real world."
      ]
    },
    {
      "cell_type": "code",
      "metadata": {
        "id": "qJsu3I1Vty1D",
        "colab_type": "code",
        "outputId": "ca88e75f-9571-4df7-b9a8-356b06026b53",
        "colab": {
          "base_uri": "https://localhost:8080/",
          "height": 34
        }
      },
      "source": [
        "X = df[[\"Clump Thickness\",\n",
        "  \"Uniformity of Cell Size\",\n",
        "  \"Uniformity of Cell Shape\",\n",
        "  \"Marginal Adhesion\",\n",
        "  \"Single Epithelial Cell Size\",\n",
        "  \"Bare Nuclei\",\n",
        "  \"Bland Chromatin\",\n",
        "  \"Normal Nucleoli\",\n",
        "  \"Mitoses\"\n",
        "]].values.astype(np.float32)\n",
        "X.shape"
      ],
      "execution_count": 9,
      "outputs": [
        {
          "output_type": "execute_result",
          "data": {
            "text/plain": [
              "(699, 9)"
            ]
          },
          "metadata": {
            "tags": []
          },
          "execution_count": 9
        }
      ]
    },
    {
      "cell_type": "markdown",
      "metadata": {
        "id": "mjJVsBmVqbnl",
        "colab_type": "text"
      },
      "source": [
        "There are multiple techniques to deal with the missing data.\n",
        "\n",
        "* Delete instances with missing values.\n",
        "* Fill missing values in a column with the _mean_ of that column.\n",
        "* Fill missing values in a column with the _mode_ of that column.\n",
        "* Fill missing values in a column with the _median_ of that column.\n",
        "\n",
        "Since this dataset is relatively small deleting rows will have a big impact. The mean is very sensitive to outliers, and the mode may not always be present---especially in continuous metrics. That's the reason I chose to use the median of each column to fill up the missing values, but feel free to play around with that yourself.\n",
        "\n",
        "To replace missing values we first need to find the indicies (`idx`) that have missing values. Once we find these we can replace the items at those indices with the `nanmedian` of each column (axis = 0)."
      ]
    },
    {
      "cell_type": "code",
      "metadata": {
        "id": "syuKFHhsy0mG",
        "colab_type": "code",
        "colab": {}
      },
      "source": [
        "idx = np.where(np.isnan(X))\n",
        "X[idx] = np.take(np.nanmedian(X, axis = 0), idx[1])"
      ],
      "execution_count": 0,
      "outputs": []
    },
    {
      "cell_type": "code",
      "metadata": {
        "id": "pRlEcPzxtnN5",
        "colab_type": "code",
        "outputId": "baa0b07d-1dcd-4c62-b0aa-73d8c157730c",
        "colab": {
          "base_uri": "https://localhost:8080/",
          "height": 34
        }
      },
      "source": [
        "y = df['Class'].values\n",
        "y.shape"
      ],
      "execution_count": 11,
      "outputs": [
        {
          "output_type": "execute_result",
          "data": {
            "text/plain": [
              "(699,)"
            ]
          },
          "metadata": {
            "tags": []
          },
          "execution_count": 11
        }
      ]
    },
    {
      "cell_type": "markdown",
      "metadata": {
        "id": "qo9QkYXVqq7H",
        "colab_type": "text"
      },
      "source": [
        "### Cleaning `y`"
      ]
    },
    {
      "cell_type": "markdown",
      "metadata": {
        "id": "a_YRqMgQrTUP",
        "colab_type": "text"
      },
      "source": [
        "The negatives (label: 0) are labelled 2 and the positives (label: 1) are labelled 4. Our model won't work with these values so we convert them to $y^{(i)} \\in \\{1, 2\\}$."
      ]
    },
    {
      "cell_type": "code",
      "metadata": {
        "id": "wtq3xr7lqvWp",
        "colab_type": "code",
        "colab": {}
      },
      "source": [
        "# we only run this cell once.\n",
        "if y[0] == 2:\n",
        "  y = np.array(y == 4, dtype=np.float32)"
      ],
      "execution_count": 0,
      "outputs": []
    },
    {
      "cell_type": "code",
      "metadata": {
        "id": "QJjpv6_3q2Cc",
        "colab_type": "code",
        "outputId": "31105635-01c1-4051-985d-dff0c5d99eed",
        "colab": {
          "base_uri": "https://localhost:8080/",
          "height": 34
        }
      },
      "source": [
        "y.shape, y[:10]"
      ],
      "execution_count": 13,
      "outputs": [
        {
          "output_type": "execute_result",
          "data": {
            "text/plain": [
              "((699,), array([0., 0., 0., 0., 0., 1., 0., 0., 0., 0.], dtype=float32))"
            ]
          },
          "metadata": {
            "tags": []
          },
          "execution_count": 13
        }
      ]
    },
    {
      "cell_type": "markdown",
      "metadata": {
        "id": "FUonXRFtqniI",
        "colab_type": "text"
      },
      "source": [
        "### Bias factor"
      ]
    },
    {
      "cell_type": "code",
      "metadata": {
        "id": "znfaOanoyQX_",
        "colab_type": "code",
        "colab": {}
      },
      "source": [
        "X = np.hstack((np.ones((len(X), 1)), X))"
      ],
      "execution_count": 0,
      "outputs": []
    },
    {
      "cell_type": "code",
      "metadata": {
        "id": "5IHtk3UVq02o",
        "colab_type": "code",
        "outputId": "04bc4dfe-691b-4446-eda4-42527170f4d7",
        "colab": {
          "base_uri": "https://localhost:8080/",
          "height": 187
        }
      },
      "source": [
        "X[:10]"
      ],
      "execution_count": 15,
      "outputs": [
        {
          "output_type": "execute_result",
          "data": {
            "text/plain": [
              "array([[ 1.,  5.,  1.,  1.,  1.,  2.,  1.,  3.,  1.,  1.],\n",
              "       [ 1.,  5.,  4.,  4.,  5.,  7., 10.,  3.,  2.,  1.],\n",
              "       [ 1.,  3.,  1.,  1.,  1.,  2.,  2.,  3.,  1.,  1.],\n",
              "       [ 1.,  6.,  8.,  8.,  1.,  3.,  4.,  3.,  7.,  1.],\n",
              "       [ 1.,  4.,  1.,  1.,  3.,  2.,  1.,  3.,  1.,  1.],\n",
              "       [ 1.,  8., 10., 10.,  8.,  7., 10.,  9.,  7.,  1.],\n",
              "       [ 1.,  1.,  1.,  1.,  1.,  2., 10.,  3.,  1.,  1.],\n",
              "       [ 1.,  2.,  1.,  2.,  1.,  2.,  1.,  3.,  1.,  1.],\n",
              "       [ 1.,  2.,  1.,  1.,  1.,  2.,  1.,  1.,  1.,  5.],\n",
              "       [ 1.,  4.,  2.,  1.,  1.,  2.,  1.,  2.,  1.,  1.]])"
            ]
          },
          "metadata": {
            "tags": []
          },
          "execution_count": 15
        }
      ]
    },
    {
      "cell_type": "markdown",
      "metadata": {
        "id": "XzeYtVOZmLbp",
        "colab_type": "text"
      },
      "source": [
        "### Stats"
      ]
    },
    {
      "cell_type": "code",
      "metadata": {
        "id": "fgLDj1yQyc8u",
        "colab_type": "code",
        "outputId": "587e7a4b-415c-4db4-d50f-82e4e82ee514",
        "colab": {
          "base_uri": "https://localhost:8080/",
          "height": 34
        }
      },
      "source": [
        "m, n = X.shape\n",
        "K = 2\n",
        "K, m, n"
      ],
      "execution_count": 16,
      "outputs": [
        {
          "output_type": "execute_result",
          "data": {
            "text/plain": [
              "(2, 699, 10)"
            ]
          },
          "metadata": {
            "tags": []
          },
          "execution_count": 16
        }
      ]
    },
    {
      "cell_type": "markdown",
      "metadata": {
        "id": "PQkk1G-8mB7K",
        "colab_type": "text"
      },
      "source": [
        "## Training a model"
      ]
    },
    {
      "cell_type": "code",
      "metadata": {
        "colab_type": "code",
        "id": "wrrExZ764dDI",
        "colab": {}
      },
      "source": [
        "theta = np.zeros(n)"
      ],
      "execution_count": 0,
      "outputs": []
    },
    {
      "cell_type": "markdown",
      "metadata": {
        "id": "mm_j7ZOVmDFy",
        "colab_type": "text"
      },
      "source": [
        "### The model"
      ]
    },
    {
      "cell_type": "code",
      "metadata": {
        "id": "A9u_l4p8HQ8y",
        "colab_type": "code",
        "colab": {}
      },
      "source": [
        "def g(z):\n",
        "  \"\"\" sigmoid \"\"\"\n",
        "  return 1 / (1 + np.exp(-z))"
      ],
      "execution_count": 0,
      "outputs": []
    },
    {
      "cell_type": "code",
      "metadata": {
        "id": "QYp6wZ2TmSjE",
        "colab_type": "code",
        "colab": {}
      },
      "source": [
        "def h(X, theta):\n",
        "  return g(X @ theta)"
      ],
      "execution_count": 0,
      "outputs": []
    },
    {
      "cell_type": "code",
      "metadata": {
        "id": "EEh7EKtmmS8r",
        "colab_type": "code",
        "outputId": "e980d233-261e-4616-9c55-d99ec2b0e0a5",
        "colab": {
          "base_uri": "https://localhost:8080/",
          "height": 34
        }
      },
      "source": [
        "preds = h(X, theta)\n",
        "preds.shape, preds[:10]"
      ],
      "execution_count": 20,
      "outputs": [
        {
          "output_type": "execute_result",
          "data": {
            "text/plain": [
              "((699,), array([0.5, 0.5, 0.5, 0.5, 0.5, 0.5, 0.5, 0.5, 0.5, 0.5]))"
            ]
          },
          "metadata": {
            "tags": []
          },
          "execution_count": 20
        }
      ]
    },
    {
      "cell_type": "markdown",
      "metadata": {
        "id": "ekuim248mlQx",
        "colab_type": "text"
      },
      "source": [
        "### Cost function & gradients"
      ]
    },
    {
      "cell_type": "code",
      "metadata": {
        "id": "lWllbrs6maBI",
        "colab_type": "code",
        "colab": {}
      },
      "source": [
        "def J(preds, y):\n",
        "  return 1/m * (-y @ np.log(preds) - (1 - y) @ np.log(1 - preds))"
      ],
      "execution_count": 0,
      "outputs": []
    },
    {
      "cell_type": "code",
      "metadata": {
        "id": "y9ApxWz4nUTy",
        "colab_type": "code",
        "colab": {}
      },
      "source": [
        "def compute_gradient(theta, X, y):\n",
        "  preds = h(X, theta)\n",
        "  gradient = 1/m * X.T @ (preds - y)\n",
        "  return gradient"
      ],
      "execution_count": 0,
      "outputs": []
    },
    {
      "cell_type": "code",
      "metadata": {
        "id": "x-RuFI9Cn7ql",
        "colab_type": "code",
        "outputId": "9aeeb2a9-4d0a-44da-c803-504a754bc8f4",
        "colab": {
          "base_uri": "https://localhost:8080/",
          "height": 51
        }
      },
      "source": [
        "compute_gradient(theta, X, y)"
      ],
      "execution_count": 23,
      "outputs": [
        {
          "output_type": "execute_result",
          "data": {
            "text/plain": [
              "array([ 0.15522175, -0.27181688, -0.69885551, -0.65808298, -0.509299  ,\n",
              "       -0.21888412, -0.8676681 , -0.34263233, -0.58798283, -0.09799714])"
            ]
          },
          "metadata": {
            "tags": []
          },
          "execution_count": 23
        }
      ]
    },
    {
      "cell_type": "code",
      "metadata": {
        "id": "gSWd67rs4LtX",
        "colab_type": "code",
        "outputId": "3940b1e1-0123-403a-9478-cefaed13d47e",
        "colab": {
          "base_uri": "https://localhost:8080/",
          "height": 34
        }
      },
      "source": [
        "preds = h(X, theta)\n",
        "J(preds, y)"
      ],
      "execution_count": 24,
      "outputs": [
        {
          "output_type": "execute_result",
          "data": {
            "text/plain": [
              "0.6931471805599452"
            ]
          },
          "metadata": {
            "tags": []
          },
          "execution_count": 24
        }
      ]
    },
    {
      "cell_type": "markdown",
      "metadata": {
        "id": "d30rwLDszI3t",
        "colab_type": "text"
      },
      "source": [
        "### Training loop"
      ]
    },
    {
      "cell_type": "code",
      "metadata": {
        "id": "wOcjo9MA_flk",
        "colab_type": "code",
        "outputId": "20fce68f-33ec-4dad-d0f0-12982ae163d5",
        "colab": {
          "base_uri": "https://localhost:8080/",
          "height": 187
        }
      },
      "source": [
        "hist = {'loss': [], 'acc': []}\n",
        "alpha = 0.1\n",
        "\n",
        "for i in range(100):\n",
        "  gradient = compute_gradient(theta, X, y)\n",
        "  theta -= alpha * gradient\n",
        "\n",
        "  # loss\n",
        "  preds = h(X, theta)\n",
        "  loss = J(preds, y)\n",
        "  hist['loss'].append(loss)\n",
        "\n",
        "  # acc\n",
        "  c = 0\n",
        "  for j in range(len(y)):\n",
        "    if (h(X[j], theta) > .5) == y[j]:\n",
        "      c += 1\n",
        "  acc = c / len(y)\n",
        "  hist['acc'].append(acc)\n",
        "\n",
        "  # print stats\n",
        "  if i % 10 == 0: print(loss, acc)"
      ],
      "execution_count": 25,
      "outputs": [
        {
          "output_type": "stream",
          "text": [
            "0.7306617045761894 0.3447782546494993\n",
            "0.4650800130797291 0.8469241773962805\n",
            "0.38340821789823415 0.9055793991416309\n",
            "0.35347237289196304 0.9141630901287554\n",
            "0.33271666973853586 0.9184549356223176\n",
            "0.31688063434698466 0.9256080114449213\n",
            "0.30406577744783675 0.9256080114449213\n",
            "0.2932708495641543 0.9313304721030042\n",
            "0.2839128193761681 0.9298998569384835\n",
            "0.2756270947419847 0.9313304721030042\n"
          ],
          "name": "stdout"
        }
      ]
    },
    {
      "cell_type": "markdown",
      "metadata": {
        "id": "6-Kf9Da1sG5v",
        "colab_type": "text"
      },
      "source": [
        "### Training evaluation"
      ]
    },
    {
      "cell_type": "code",
      "metadata": {
        "id": "tagqBRvVnVCE",
        "colab_type": "code",
        "outputId": "2d370a93-d8fd-47f8-ee35-2fce0102440b",
        "colab": {
          "base_uri": "https://localhost:8080/",
          "height": 351
        }
      },
      "source": [
        "figsize(15, 5)\n",
        "subplot(1, 2, 1)\n",
        "plot(hist['loss'])\n",
        "xlabel('loss')\n",
        "subplot(1, 2, 2)\n",
        "plot(hist['acc'])\n",
        "xlabel('accuracy')"
      ],
      "execution_count": 26,
      "outputs": [
        {
          "output_type": "execute_result",
          "data": {
            "text/plain": [
              "Text(0.5, 0, 'accuracy')"
            ]
          },
          "metadata": {
            "tags": []
          },
          "execution_count": 26
        },
        {
          "output_type": "display_data",
          "data": {
            "image/png": "[encoded data removed]",
            "text/plain": [
              "<Figure size 1080x360 with 2 Axes>"
            ]
          },
          "metadata": {
            "tags": []
          }
        }
      ]
    },
    {
      "cell_type": "markdown",
      "metadata": {
        "id": "C6_dJV9isIsJ",
        "colab_type": "text"
      },
      "source": [
        "### Final performance"
      ]
    },
    {
      "cell_type": "code",
      "metadata": {
        "id": "9NZAZZPXkwgW",
        "colab_type": "code",
        "outputId": "b6da1a8f-a1e0-415e-c91f-a3b6edd6b559",
        "colab": {
          "base_uri": "https://localhost:8080/",
          "height": 34
        }
      },
      "source": [
        "hist['loss'][-1], hist['acc'][-1]"
      ],
      "execution_count": 27,
      "outputs": [
        {
          "output_type": "execute_result",
          "data": {
            "text/plain": [
              "(0.2688861031735936, 0.9313304721030042)"
            ]
          },
          "metadata": {
            "tags": []
          },
          "execution_count": 27
        }
      ]
    },
    {
      "cell_type": "markdown",
      "metadata": {
        "id": "s-LXEHKbVDjt",
        "colab_type": "text"
      },
      "source": [
        "## Evaluation metrics"
      ]
    },
    {
      "cell_type": "markdown",
      "metadata": {
        "id": "_NTeccLPatex",
        "colab_type": "text"
      },
      "source": [
        "#### Accuracy"
      ]
    },
    {
      "cell_type": "code",
      "metadata": {
        "id": "b3AseNGzVElV",
        "colab_type": "code",
        "outputId": "1e82842c-7bcf-4007-99eb-9dcff1309529",
        "colab": {
          "base_uri": "https://localhost:8080/",
          "height": 34
        }
      },
      "source": [
        "preds = h(X, theta) > 0.5\n",
        "(preds == y).sum() / len(y)"
      ],
      "execution_count": 28,
      "outputs": [
        {
          "output_type": "execute_result",
          "data": {
            "text/plain": [
              "0.9313304721030042"
            ]
          },
          "metadata": {
            "tags": []
          },
          "execution_count": 28
        }
      ]
    },
    {
      "cell_type": "markdown",
      "metadata": {
        "id": "746ju6V2avBg",
        "colab_type": "text"
      },
      "source": [
        "#### F1"
      ]
    },
    {
      "cell_type": "code",
      "metadata": {
        "id": "ylGqBLaVVfAP",
        "colab_type": "code",
        "outputId": "52f36594-de64-4e0b-cc0c-6f469773e8a7",
        "colab": {
          "base_uri": "https://localhost:8080/",
          "height": 34
        }
      },
      "source": [
        "def precision(preds, labels):\n",
        "  tp = ((preds == 1) == (y == 1)).sum()\n",
        "  fp = ((preds == 1) == (y == 0)).sum()\n",
        "  return tp / (tp + fp)\n",
        "\n",
        "precision(preds, y)"
      ],
      "execution_count": 29,
      "outputs": [
        {
          "output_type": "execute_result",
          "data": {
            "text/plain": [
              "0.9313304721030042"
            ]
          },
          "metadata": {
            "tags": []
          },
          "execution_count": 29
        }
      ]
    },
    {
      "cell_type": "code",
      "metadata": {
        "id": "0AhLxQ6gbDvk",
        "colab_type": "code",
        "outputId": "aeb48370-a27c-435a-81d8-7cdc462823c5",
        "colab": {
          "base_uri": "https://localhost:8080/",
          "height": 34
        }
      },
      "source": [
        "def recall(preds, labels):\n",
        "  tp = ((preds == 1) == (y == 1)).sum()\n",
        "  fn = ((preds == 0) == (y == 1)).sum()\n",
        "  return tp / (tp + fn)\n",
        "\n",
        "recall(preds, y)"
      ],
      "execution_count": 30,
      "outputs": [
        {
          "output_type": "execute_result",
          "data": {
            "text/plain": [
              "0.9313304721030042"
            ]
          },
          "metadata": {
            "tags": []
          },
          "execution_count": 30
        }
      ]
    },
    {
      "cell_type": "code",
      "metadata": {
        "id": "xdgdDEkDbUvK",
        "colab_type": "code",
        "outputId": "e444e157-313d-4aad-96af-3e31d0568759",
        "colab": {
          "base_uri": "https://localhost:8080/",
          "height": 34
        }
      },
      "source": [
        "def f1(preds, labels):\n",
        "  return 2 * (precision(preds, labels) * recall(preds, labels)) / (precision(preds, labels) + recall(preds, labels))\n",
        "\n",
        "f1(preds, y)"
      ],
      "execution_count": 31,
      "outputs": [
        {
          "output_type": "execute_result",
          "data": {
            "text/plain": [
              "0.9313304721030042"
            ]
          },
          "metadata": {
            "tags": []
          },
          "execution_count": 31
        }
      ]
    },
    {
      "cell_type": "markdown",
      "metadata": {
        "id": "emiH-y7VzIdF",
        "colab_type": "text"
      },
      "source": [
        "## Optimizing model performance"
      ]
    },
    {
      "cell_type": "code",
      "metadata": {
        "id": "eVyCcZCCzJqy",
        "colab_type": "code",
        "colab": {}
      },
      "source": [
        "recalls = []\n",
        "for p in range(100):\n",
        "  preds = (h(X, theta) > (p / 100))\n",
        "  r = recall(preds, y)\n",
        "  recalls.append(r)"
      ],
      "execution_count": 0,
      "outputs": []
    },
    {
      "cell_type": "code",
      "metadata": {
        "id": "5D-H3WULzWKC",
        "colab_type": "code",
        "outputId": "61d58f77-a298-41d4-db13-5ab4cddbb9a6",
        "colab": {
          "base_uri": "https://localhost:8080/",
          "height": 337
        }
      },
      "source": [
        "plot(recalls)"
      ],
      "execution_count": 33,
      "outputs": [
        {
          "output_type": "execute_result",
          "data": {
            "text/plain": [
              "[<matplotlib.lines.Line2D at 0x7fd45b74aa20>]"
            ]
          },
          "metadata": {
            "tags": []
          },
          "execution_count": 33
        },
        {
          "output_type": "display_data",
          "data": {
            "image/png": "[encoded data removed]",
            "text/plain": [
              "<Figure size 1080x360 with 1 Axes>"
            ]
          },
          "metadata": {
            "tags": []
          }
        }
      ]
    },
    {
      "cell_type": "code",
      "metadata": {
        "id": "wCsVgpEU4ipc",
        "colab_type": "code",
        "colab": {
          "base_uri": "https://localhost:8080/",
          "height": 34
        },
        "outputId": "b5f9e8b8-377a-4fdb-d3f4-817a3918ee31"
      },
      "source": [
        "preds = h(X, theta) > 0.52\n",
        "recall(preds, y)"
      ],
      "execution_count": 34,
      "outputs": [
        {
          "output_type": "execute_result",
          "data": {
            "text/plain": [
              "0.9356223175965666"
            ]
          },
          "metadata": {
            "tags": []
          },
          "execution_count": 34
        }
      ]
    },
    {
      "cell_type": "markdown",
      "metadata": {
        "id": "aTChgVmgm5SM",
        "colab_type": "text"
      },
      "source": [
        "## Graphics"
      ]
    },
    {
      "cell_type": "markdown",
      "metadata": {
        "id": "WDjTA2DVsNC1",
        "colab_type": "text"
      },
      "source": [
        "The rest of the notebook is not directly related to the concept. This section just shows how I generate graphics for the blog post."
      ]
    },
    {
      "cell_type": "code",
      "metadata": {
        "id": "dg_Cw-91lbdg",
        "colab_type": "code",
        "outputId": "305647e2-adda-433e-9c01-e911865b2bbd",
        "colab": {
          "base_uri": "https://localhost:8080/",
          "height": 337
        }
      },
      "source": [
        "figsize(20, 5)\n",
        "x = np.arange(-10, 10, 0.1)\n",
        "plot((0, 0), (0, 1), 'g-', label='x = 0')\n",
        "plot((-10, 10), (0.5, 0.5), 'r-', label='y = 0.5')\n",
        "plot(x, g(x), label='g')\n",
        "legend()"
      ],
      "execution_count": 35,
      "outputs": [
        {
          "output_type": "execute_result",
          "data": {
            "text/plain": [
              "<matplotlib.legend.Legend at 0x7fd45b73c208>"
            ]
          },
          "metadata": {
            "tags": []
          },
          "execution_count": 35
        },
        {
          "output_type": "display_data",
          "data": {
            "image/png": "[encoded data removed]",
            "text/plain": [
              "<Figure size 1440x360 with 1 Axes>"
            ]
          },
          "metadata": {
            "tags": []
          }
        }
      ]
    },
    {
      "cell_type": "markdown",
      "metadata": {
        "id": "NrRWRco8tm6T",
        "colab_type": "text"
      },
      "source": [
        "---\n",
        "\n",
        "By [Rick Wierenga](https://twitter.com/rickwierenga/)"
      ]
    },
    {
      "cell_type": "code",
      "metadata": {
        "id": "8O3zPl0w4pQd",
        "colab_type": "code",
        "colab": {}
      },
      "source": [
        ""
      ],
      "execution_count": 0,
      "outputs": []
    }
  ]
}