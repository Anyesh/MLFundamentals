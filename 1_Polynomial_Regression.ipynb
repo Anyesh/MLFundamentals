{
  "nbformat": 4,
  "nbformat_minor": 0,
  "metadata": {
    "colab": {
      "name": "Polynomial Regression.ipynb",
      "provenance": [],
      "collapsed_sections": []
    },
    "kernelspec": {
      "name": "python3",
      "display_name": "Python 3"
    }
  },
  "cells": [
    {
      "cell_type": "markdown",
      "metadata": {
        "id": "8LXv1wPWk4V3",
        "colab_type": "text"
      },
      "source": [
        "## Polynomial Regression - ML from the Fundamentals (1)\n",
        "\n",
        "* **Check out the corresponding blog post: https://rickwierenga.com/blog/ml-fundamentals/polynomial-regression.html**\n",
        "\n",
        "* Full series: https://rickwierenga.com/blog/ml-fundamentals/"
      ]
    },
    {
      "cell_type": "code",
      "metadata": {
        "id": "b-_-PJivMqph",
        "colab_type": "code",
        "colab": {
          "base_uri": "https://localhost:8080/",
          "height": 34
        },
        "outputId": "9f8ed5bb-6529-4af2-ccf8-00e781d864ae"
      },
      "source": [
        "%pylab inline"
      ],
      "execution_count": 1,
      "outputs": [
        {
          "output_type": "stream",
          "text": [
            "Populating the interactive namespace from numpy and matplotlib\n"
          ],
          "name": "stdout"
        }
      ]
    },
    {
      "cell_type": "markdown",
      "metadata": {
        "id": "kee3LJcetsci",
        "colab_type": "text"
      },
      "source": [
        "## Data & normalization"
      ]
    },
    {
      "cell_type": "code",
      "metadata": {
        "id": "NjCkVM5DM67X",
        "colab_type": "code",
        "colab": {}
      },
      "source": [
        "X = np.array([[1, 2, 3, 4, 5, 6, 7, 8, 9, 10]]).T\n",
        "y = np.array([45000, 50000, 60000, 80000, 110000, 150000, 200000, 300000, 500000, 1000000])\n",
        "\n",
        "m, n = X.shape"
      ],
      "execution_count": 0,
      "outputs": []
    },
    {
      "cell_type": "code",
      "metadata": {
        "id": "HbGdkcjuM8Ix",
        "colab_type": "code",
        "outputId": "556b3fa6-18f9-4e25-df05-6f292c4fef4a",
        "colab": {
          "base_uri": "https://localhost:8080/",
          "height": 282
        }
      },
      "source": [
        "plt.plot(X, y, 'rx')"
      ],
      "execution_count": 3,
      "outputs": [
        {
          "output_type": "execute_result",
          "data": {
            "text/plain": [
              "[<matplotlib.lines.Line2D at 0x7f6b3d486ac8>]"
            ]
          },
          "metadata": {
            "tags": []
          },
          "execution_count": 3
        },
        {
          "output_type": "display_data",
          "data": {
            "image/png": "[encoded data removed]",
            "text/plain": [
              "<Figure size 432x288 with 1 Axes>"
            ]
          },
          "metadata": {
            "tags": []
          }
        }
      ]
    },
    {
      "cell_type": "code",
      "metadata": {
        "id": "1tlcpB8iNESG",
        "colab_type": "code",
        "colab": {}
      },
      "source": [
        "X = np.hstack((np.ones((m, 1)), X))"
      ],
      "execution_count": 0,
      "outputs": []
    },
    {
      "cell_type": "code",
      "metadata": {
        "id": "a1fBQcXiLiOB",
        "colab_type": "code",
        "outputId": "d883ad60-08e3-4558-fdaa-33fe100dff34",
        "colab": {
          "base_uri": "https://localhost:8080/",
          "height": 187
        }
      },
      "source": [
        "X = np.hstack((X, (X[:, 1] ** 2).reshape((m, 1)), (X[:, 1] ** 3).reshape((m, 1)), (X[:, 1] ** 4).reshape((m, 1)))); X"
      ],
      "execution_count": 5,
      "outputs": [
        {
          "output_type": "execute_result",
          "data": {
            "text/plain": [
              "array([[1.000e+00, 1.000e+00, 1.000e+00, 1.000e+00, 1.000e+00],\n",
              "       [1.000e+00, 2.000e+00, 4.000e+00, 8.000e+00, 1.600e+01],\n",
              "       [1.000e+00, 3.000e+00, 9.000e+00, 2.700e+01, 8.100e+01],\n",
              "       [1.000e+00, 4.000e+00, 1.600e+01, 6.400e+01, 2.560e+02],\n",
              "       [1.000e+00, 5.000e+00, 2.500e+01, 1.250e+02, 6.250e+02],\n",
              "       [1.000e+00, 6.000e+00, 3.600e+01, 2.160e+02, 1.296e+03],\n",
              "       [1.000e+00, 7.000e+00, 4.900e+01, 3.430e+02, 2.401e+03],\n",
              "       [1.000e+00, 8.000e+00, 6.400e+01, 5.120e+02, 4.096e+03],\n",
              "       [1.000e+00, 9.000e+00, 8.100e+01, 7.290e+02, 6.561e+03],\n",
              "       [1.000e+00, 1.000e+01, 1.000e+02, 1.000e+03, 1.000e+04]])"
            ]
          },
          "metadata": {
            "tags": []
          },
          "execution_count": 5
        }
      ]
    },
    {
      "cell_type": "code",
      "metadata": {
        "id": "sueRXKikWZH1",
        "colab_type": "code",
        "colab": {}
      },
      "source": [
        "_, n = X.shape"
      ],
      "execution_count": 0,
      "outputs": []
    },
    {
      "cell_type": "code",
      "metadata": {
        "id": "n_qieBpvLPsm",
        "colab_type": "code",
        "outputId": "6192080e-d0be-4907-fd6c-c88e554c1ddf",
        "colab": {
          "base_uri": "https://localhost:8080/",
          "height": 51
        }
      },
      "source": [
        "X[:, 1:] = (X[:, 1:] - np.mean(X[:, 1:], axis=0)) / np.std(X[:, 1:], axis=0)\n",
        "np.mean(X[:, 1:], axis=0), np.std(X[:, 1:], axis=0)"
      ],
      "execution_count": 7,
      "outputs": [
        {
          "output_type": "execute_result",
          "data": {
            "text/plain": [
              "(array([-1.11022302e-16,  4.44089210e-17,  0.00000000e+00,  0.00000000e+00]),\n",
              " array([1., 1., 1., 1.]))"
            ]
          },
          "metadata": {
            "tags": []
          },
          "execution_count": 7
        }
      ]
    },
    {
      "cell_type": "markdown",
      "metadata": {
        "id": "K2-lvhKIt30s",
        "colab_type": "text"
      },
      "source": [
        "## Hypothesis & predictions"
      ]
    },
    {
      "cell_type": "code",
      "metadata": {
        "id": "K4jWJJzzNAZB",
        "colab_type": "code",
        "colab": {}
      },
      "source": [
        "def h(X, theta):\n",
        "  return X @ theta"
      ],
      "execution_count": 0,
      "outputs": []
    },
    {
      "cell_type": "code",
      "metadata": {
        "id": "xwMc4odGWTxu",
        "colab_type": "code",
        "colab": {}
      },
      "source": [
        "theta = np.random.random(n)"
      ],
      "execution_count": 0,
      "outputs": []
    },
    {
      "cell_type": "code",
      "metadata": {
        "id": "4apH6gwVsjoN",
        "colab_type": "code",
        "outputId": "e829b309-f6cb-4eec-a9a6-7bfa1a3783be",
        "colab": {
          "base_uri": "https://localhost:8080/",
          "height": 51
        }
      },
      "source": [
        "predictions = h(X, theta)\n",
        "predictions"
      ],
      "execution_count": 10,
      "outputs": [
        {
          "output_type": "execute_result",
          "data": {
            "text/plain": [
              "array([-2.31022709, -1.97379418, -1.56899318, -1.08481758, -0.50618932,\n",
              "        0.18604122,  1.01509521,  2.00826536,  3.19691596,  4.61648283])"
            ]
          },
          "metadata": {
            "tags": []
          },
          "execution_count": 10
        }
      ]
    },
    {
      "cell_type": "code",
      "metadata": {
        "id": "zLEV92ZrtIrD",
        "colab_type": "code",
        "outputId": "806b5ff5-f711-480a-cacc-9cbb636cb274",
        "colab": {
          "base_uri": "https://localhost:8080/",
          "height": 85
        }
      },
      "source": [
        "h(X, theta), y"
      ],
      "execution_count": 11,
      "outputs": [
        {
          "output_type": "execute_result",
          "data": {
            "text/plain": [
              "(array([-2.31022709, -1.97379418, -1.56899318, -1.08481758, -0.50618932,\n",
              "         0.18604122,  1.01509521,  2.00826536,  3.19691596,  4.61648283]),\n",
              " array([  45000,   50000,   60000,   80000,  110000,  150000,  200000,\n",
              "         300000,  500000, 1000000]))"
            ]
          },
          "metadata": {
            "tags": []
          },
          "execution_count": 11
        }
      ]
    },
    {
      "cell_type": "code",
      "metadata": {
        "id": "IutU4jipt8v5",
        "colab_type": "code",
        "outputId": "7be084ad-81fc-4064-c627-49d74f933038",
        "colab": {
          "base_uri": "https://localhost:8080/",
          "height": 282
        }
      },
      "source": [
        "predictions = h(X, theta)\n",
        "plt.plot(X[:, 1], predictions, label='predictions')\n",
        "plt.plot(X[:, 1], y, 'rx', label='labels')\n",
        "plt.legend()"
      ],
      "execution_count": 12,
      "outputs": [
        {
          "output_type": "execute_result",
          "data": {
            "text/plain": [
              "<matplotlib.legend.Legend at 0x7f6b3cf6c0b8>"
            ]
          },
          "metadata": {
            "tags": []
          },
          "execution_count": 12
        },
        {
          "output_type": "display_data",
          "data": {
            "image/png": "[encoded data removed]",
            "text/plain": [
              "<Figure size 432x288 with 1 Axes>"
            ]
          },
          "metadata": {
            "tags": []
          }
        }
      ]
    },
    {
      "cell_type": "markdown",
      "metadata": {
        "id": "CtZm92_lt5aZ",
        "colab_type": "text"
      },
      "source": [
        "## Loss"
      ]
    },
    {
      "cell_type": "code",
      "metadata": {
        "id": "KYtFgM2mWexl",
        "colab_type": "code",
        "colab": {}
      },
      "source": [
        "def J(theta, X, y):\n",
        "  return np.mean(np.square(h(X, theta) - y))"
      ],
      "execution_count": 0,
      "outputs": []
    },
    {
      "cell_type": "code",
      "metadata": {
        "id": "h12siGMiq0Hu",
        "colab_type": "code",
        "outputId": "5e7d9fe9-174f-42b2-a044-69cfc59659d9",
        "colab": {
          "base_uri": "https://localhost:8080/",
          "height": 34
        }
      },
      "source": [
        "J(theta, X, y)"
      ],
      "execution_count": 14,
      "outputs": [
        {
          "output_type": "execute_result",
          "data": {
            "text/plain": [
              "142911178186.99652"
            ]
          },
          "metadata": {
            "tags": []
          },
          "execution_count": 14
        }
      ]
    },
    {
      "cell_type": "markdown",
      "metadata": {
        "id": "Gqq33ygdt-iw",
        "colab_type": "text"
      },
      "source": [
        "## Training"
      ]
    },
    {
      "cell_type": "code",
      "metadata": {
        "id": "k0jnsCZ0P91o",
        "colab_type": "code",
        "colab": {}
      },
      "source": [
        "alpha = 0.01"
      ],
      "execution_count": 0,
      "outputs": []
    },
    {
      "cell_type": "code",
      "metadata": {
        "id": "Fg4GjlqYNJrE",
        "colab_type": "code",
        "colab": {}
      },
      "source": [
        "losses = []\n",
        "for _ in range(5000):\n",
        "  theta = theta - alpha * (1/m) * (X.T @ ((X @ theta) - y))\n",
        "  losses.append(J(theta, X, y))"
      ],
      "execution_count": 0,
      "outputs": []
    },
    {
      "cell_type": "code",
      "metadata": {
        "id": "3XECbPxpP48O",
        "colab_type": "code",
        "outputId": "2b993fd6-de0c-480a-a8a7-df3b26220c7f",
        "colab": {
          "base_uri": "https://localhost:8080/",
          "height": 282
        }
      },
      "source": [
        "predictions = h(X, theta)\n",
        "plt.plot(X[:, 1], predictions, label='predictions')\n",
        "plt.plot(X[:, 1], y, 'rx', label='labels')\n",
        "plt.legend()"
      ],
      "execution_count": 17,
      "outputs": [
        {
          "output_type": "execute_result",
          "data": {
            "text/plain": [
              "<matplotlib.legend.Legend at 0x7f6b3cf01b70>"
            ]
          },
          "metadata": {
            "tags": []
          },
          "execution_count": 17
        },
        {
          "output_type": "display_data",
          "data": {
            "image/png": "[encoded data removed]",
            "text/plain": [
              "<Figure size 432x288 with 1 Axes>"
            ]
          },
          "metadata": {
            "tags": []
          }
        }
      ]
    },
    {
      "cell_type": "code",
      "metadata": {
        "id": "ApPUA80vutSW",
        "colab_type": "code",
        "outputId": "511e3222-02ea-4671-c6b1-b60161a08576",
        "colab": {
          "base_uri": "https://localhost:8080/",
          "height": 293
        }
      },
      "source": [
        "plt.plot(losses)"
      ],
      "execution_count": 18,
      "outputs": [
        {
          "output_type": "execute_result",
          "data": {
            "text/plain": [
              "[<matplotlib.lines.Line2D at 0x7f6b3ce709e8>]"
            ]
          },
          "metadata": {
            "tags": []
          },
          "execution_count": 18
        },
        {
          "output_type": "display_data",
          "data": {
            "image/png": "[encoded data removed]",
            "text/plain": [
              "<Figure size 432x288 with 1 Axes>"
            ]
          },
          "metadata": {
            "tags": []
          }
        }
      ]
    },
    {
      "cell_type": "code",
      "metadata": {
        "id": "2ZoEhMqcwZh1",
        "colab_type": "code",
        "outputId": "8ed5fa2b-fcd8-4762-b8c6-0f22aa800b7a",
        "colab": {
          "base_uri": "https://localhost:8080/",
          "height": 34
        }
      },
      "source": [
        "losses[-1]"
      ],
      "execution_count": 19,
      "outputs": [
        {
          "output_type": "execute_result",
          "data": {
            "text/plain": [
              "2596118221.8942122"
            ]
          },
          "metadata": {
            "tags": []
          },
          "execution_count": 19
        }
      ]
    },
    {
      "cell_type": "markdown",
      "metadata": {
        "id": "pIrCjO9TKwq5",
        "colab_type": "text"
      },
      "source": [
        "## Normal equation"
      ]
    },
    {
      "cell_type": "code",
      "metadata": {
        "id": "bK9lgoZ6KwNe",
        "colab_type": "code",
        "colab": {}
      },
      "source": [
        "# recompute theta\n",
        "theta = np.linalg.pinv(X.T@X) @ X.T @ y"
      ],
      "execution_count": 0,
      "outputs": []
    },
    {
      "cell_type": "code",
      "metadata": {
        "id": "m8k9wwpOK_2j",
        "colab_type": "code",
        "outputId": "22d7991c-3e1a-4d37-aead-07b8bd2a32af",
        "colab": {
          "base_uri": "https://localhost:8080/",
          "height": 282
        }
      },
      "source": [
        "predictions = h(X, theta)\n",
        "plt.plot(X[:, 1], predictions, label='predictions')\n",
        "plt.plot(X[:, 1], y, 'rx', label='labels')\n",
        "plt.legend()"
      ],
      "execution_count": 21,
      "outputs": [
        {
          "output_type": "execute_result",
          "data": {
            "text/plain": [
              "<matplotlib.legend.Legend at 0x7f6b3cde3160>"
            ]
          },
          "metadata": {
            "tags": []
          },
          "execution_count": 21
        },
        {
          "output_type": "display_data",
          "data": {
            "image/png": "[encoded data removed]",
            "text/plain": [
              "<Figure size 432x288 with 1 Axes>"
            ]
          },
          "metadata": {
            "tags": []
          }
        }
      ]
    },
    {
      "cell_type": "markdown",
      "metadata": {
        "id": "9RetDwbSgCPT",
        "colab_type": "text"
      },
      "source": [
        "---\n",
        "\n",
        "By [Rick Wierenga](https://twitter.com/rickwierenga/)"
      ]
    }
  ]
}